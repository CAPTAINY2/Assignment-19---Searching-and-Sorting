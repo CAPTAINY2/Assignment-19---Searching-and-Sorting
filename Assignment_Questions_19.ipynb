{
  "nbformat": 4,
  "nbformat_minor": 0,
  "metadata": {
    "colab": {
      "provenance": [],
      "authorship_tag": "ABX9TyN0o+yMopzdpmbf43AGbo32",
      "include_colab_link": true
    },
    "kernelspec": {
      "name": "python3",
      "display_name": "Python 3"
    },
    "language_info": {
      "name": "python"
    }
  },
  "cells": [
    {
      "cell_type": "markdown",
      "metadata": {
        "id": "view-in-github",
        "colab_type": "text"
      },
      "source": [
        "<a href=\"https://colab.research.google.com/github/CAPTAINY2/Assignment-19---Searching-and-Sorting/blob/main/Assignment_Questions_19.ipynb\" target=\"_parent\"><img src=\"https://colab.research.google.com/assets/colab-badge.svg\" alt=\"Open In Colab\"/></a>"
      ]
    },
    {
      "cell_type": "code",
      "source": [
        "import heapq\n",
        "\n",
        "class ListNode:\n",
        "    def __init__(self, val=0, next=None):\n",
        "        self.val = val\n",
        "        self.next = next\n",
        "\n",
        "def merge_k_lists(lists):\n",
        "    heap = []\n",
        "    heapq.heapify(heap)\n",
        "\n",
        "    for i, head in enumerate(lists):\n",
        "        if head:\n",
        "            heapq.heappush(heap, (head.val, i, head))\n",
        "\n",
        "    dummy = ListNode()\n",
        "    current = dummy\n",
        "\n",
        "    while heap:\n",
        "        _, list_index, node = heapq.heappop(heap)\n",
        "        current.next = node\n",
        "        current = current.next\n",
        "\n",
        "        if node.next:\n",
        "            heapq.heappush(heap, (node.next.val, list_index, node.next))\n",
        "\n",
        "    return dummy.next\n",
        "\n",
        "head1 = ListNode(1)\n",
        "head1.next = ListNode(4)\n",
        "head1.next.next = ListNode(5)\n",
        "\n",
        "head2 = ListNode(1)\n",
        "head2.next = ListNode(3)\n",
        "head2.next.next = ListNode(4)\n",
        "\n",
        "head3 = ListNode(2)\n",
        "head3.next = ListNode(6)\n",
        "\n",
        "lists = [head1, head2, head3]\n",
        "result = merge_k_lists(lists)\n",
        "\n",
        "print(\"Output 1: \")\n",
        "while result:\n",
        "    print(result.val, end=\"->\")\n",
        "    result = result.next\n",
        "print()\n",
        "\n",
        "lists = []\n",
        "result = merge_k_lists(lists)\n",
        "print(\"Output 2: \", result)\n",
        "\n",
        "\n",
        "lists = [[]]\n",
        "result = merge_k_lists(lists)\n",
        "print(\"Output 3: \",result)\n"
      ],
      "metadata": {
        "colab": {
          "base_uri": "https://localhost:8080/"
        },
        "id": "MOJvw-21Ee34",
        "outputId": "3548edd2-4f4e-404c-9047-72592652087a"
      },
      "execution_count": 25,
      "outputs": [
        {
          "output_type": "stream",
          "name": "stdout",
          "text": [
            "Output 1: \n",
            "1->1->2->3->4->4->5->6->\n",
            "Output 2:  None\n",
            "Output 3:  None\n"
          ]
        }
      ]
    },
    {
      "cell_type": "markdown",
      "source": [
        "### QUESTION-2"
      ],
      "metadata": {
        "id": "mwsOfy2wAr2x"
      }
    },
    {
      "cell_type": "code",
      "source": [
        "nums1 = [5, 2, 6, 1]\n",
        "nums2 = [-1]\n",
        "nums3 = [-1, -1]\n",
        "\n",
        "def smaller(nums):\n",
        "    result = [0] * len(nums)\n",
        "    pairs = [(nums[i], i) for i in range(len(nums))]\n",
        "\n",
        "    def merge(pairs):\n",
        "        if len(pairs) <= 1:\n",
        "            return pairs\n",
        "\n",
        "        mid = len(pairs) // 2\n",
        "        left = merge(pairs[:mid])\n",
        "        right = merge(pairs[mid:])\n",
        "\n",
        "        sortlist = []\n",
        "        smallerCounts = [0] * len(left)\n",
        "\n",
        "        i, j = 0, 0\n",
        "        while i < len(left) and j < len(right):\n",
        "            if left[i][0] <= right[j][0]:\n",
        "                sortlist.append(left[i])\n",
        "                result[left[i][1]] += j\n",
        "                i += 1\n",
        "            else:\n",
        "                sortlist.append(right[j])\n",
        "                j += 1\n",
        "\n",
        "        sortlist.extend(left[i:])\n",
        "        sortlist.extend(right[j:])\n",
        "\n",
        "        for k in range(i, len(left)):\n",
        "            result[left[k][1]] += j\n",
        "\n",
        "        return sortlist\n",
        "\n",
        "    merge(pairs)\n",
        "    return result\n",
        "\n",
        "print(\"Output 1: \", smaller(nums1))\n",
        "print(\"Output 2: \", smaller(nums2))\n",
        "print(\"Output 3: \", smaller(nums3))"
      ],
      "metadata": {
        "colab": {
          "base_uri": "https://localhost:8080/"
        },
        "id": "CPWx1C_oMqgF",
        "outputId": "6cd6128f-ac93-4bc2-ff39-bf314227f93c"
      },
      "execution_count": 3,
      "outputs": [
        {
          "output_type": "stream",
          "name": "stdout",
          "text": [
            "Output 1:  [2, 1, 1, 0]\n",
            "Output 2:  [0]\n",
            "Output 3:  [0, 0]\n"
          ]
        }
      ]
    },
    {
      "cell_type": "markdown",
      "source": [
        "### QUESTION-3"
      ],
      "metadata": {
        "id": "yoN_wJQLAz7N"
      }
    },
    {
      "cell_type": "code",
      "source": [
        "nums1 = [5, 2, 3, 1]\n",
        "nums2 = [5,1,1,2,0,0]\n",
        "\n",
        "def arr(nums):\n",
        "    def mergeSort(arr):\n",
        "        if len(arr) <= 1:\n",
        "            return arr\n",
        "\n",
        "        mid = len(arr) // 2\n",
        "        left = mergeSort(arr[:mid])\n",
        "        right = mergeSort(arr[mid:])\n",
        "\n",
        "        merged = []\n",
        "        i = j = 0\n",
        "        while i < len(left) and j < len(right):\n",
        "            if left[i] <= right[j]:\n",
        "                merged.append(left[i])\n",
        "                i += 1\n",
        "            else:\n",
        "                merged.append(right[j])\n",
        "                j += 1\n",
        "\n",
        "        merged.extend(left[i:])\n",
        "        merged.extend(right[j:])\n",
        "        return merged\n",
        "\n",
        "    return mergeSort(nums)\n",
        "\n",
        "print(\"Output 1: \", arr(nums1))\n",
        "print(\"Output 2: \", arr(nums2))"
      ],
      "metadata": {
        "colab": {
          "base_uri": "https://localhost:8080/"
        },
        "id": "Pp3p1rgBx4li",
        "outputId": "77c09aef-c949-48df-fb0b-c124bbaedcd6"
      },
      "execution_count": 4,
      "outputs": [
        {
          "output_type": "stream",
          "name": "stdout",
          "text": [
            "Output 1:  [1, 2, 3, 5]\n",
            "Output 2:  [0, 0, 1, 1, 2, 5]\n"
          ]
        }
      ]
    },
    {
      "cell_type": "markdown",
      "source": [
        "### QUESTION-4"
      ],
      "metadata": {
        "id": "M69N8zhFA2oK"
      }
    },
    {
      "cell_type": "code",
      "source": [
        "arr1 = [1, 2, 0, 4, 3, 0, 5, 0]\n",
        "arr2 = [1, 2, 0, 0, 0, 3, 6]\n",
        "\n",
        "def move_zeroes(nums):\n",
        "    left = right = 0\n",
        "\n",
        "    while right < len(nums):\n",
        "        if nums[right] != 0:\n",
        "            nums[left], nums[right] = nums[right], nums[left]\n",
        "            left += 1\n",
        "        right += 1\n",
        "\n",
        "    while left < len(nums):\n",
        "        nums[left] = 0\n",
        "        left += 1\n",
        "\n",
        "    return nums\n",
        "\n",
        "print(\"Output 1: \", move_zeroes(arr1))\n",
        "print(\"Output 2: \", move_zeroes(arr2))"
      ],
      "metadata": {
        "colab": {
          "base_uri": "https://localhost:8080/"
        },
        "id": "_K8OahCK0a7o",
        "outputId": "a65ce697-3ff2-4e9e-d382-6ec1e20b7414"
      },
      "execution_count": 6,
      "outputs": [
        {
          "output_type": "stream",
          "name": "stdout",
          "text": [
            "Output 1:  [1, 2, 4, 3, 5, 0, 0, 0]\n",
            "Output 2:  [1, 2, 3, 6, 0, 0, 0]\n"
          ]
        }
      ]
    },
    {
      "cell_type": "markdown",
      "source": [
        "### QUESTION-5"
      ],
      "metadata": {
        "id": "Pmp14kuvA41_"
      }
    },
    {
      "cell_type": "code",
      "source": [
        "arr1 = [1, 2, 3, -4, -1, 4]\n",
        "arr2 = [-5, -2, 5, 2, 4, 7, 1, 8, 0, -8]\n",
        "\n",
        "def rearrange(nums):\n",
        "    pos = 0\n",
        "    neg = 0\n",
        "\n",
        "    while pos < len(nums) and neg < len(nums):\n",
        "        while pos < len(nums) and nums[pos] >= 0:\n",
        "            pos += 1\n",
        "\n",
        "        while neg < len(nums) and nums[neg] < 0:\n",
        "            neg += 1\n",
        "\n",
        "        if pos < len(nums) and neg < len(nums):\n",
        "            nums[pos], nums[neg] = nums[neg], nums[pos]\n",
        "\n",
        "    return nums\n",
        "\n",
        "print(\"Output 1: \", rearrange(arr1))\n",
        "print(\"Output 2: \", rearrange(arr2))\n"
      ],
      "metadata": {
        "colab": {
          "base_uri": "https://localhost:8080/"
        },
        "id": "dtWD0ZKR4zFd",
        "outputId": "6d9199ae-8cf0-4afe-e5f5-ceacaf8050e5"
      },
      "execution_count": 10,
      "outputs": [
        {
          "output_type": "stream",
          "name": "stdout",
          "text": [
            "Output 1:  [-4, -1, 3, 1, 2, 4]\n",
            "Output 2:  [5, 2, 4, 7, 1, 8, 0, -2, -5, -8]\n"
          ]
        }
      ]
    },
    {
      "cell_type": "markdown",
      "source": [
        "### QUESTION-6"
      ],
      "metadata": {
        "id": "nYANuyV_A8Km"
      }
    },
    {
      "cell_type": "code",
      "source": [
        "arr1 = [1, 3, 4, 5]\n",
        "arr2 = [2, 4, 6, 8]\n",
        "arr3 = [5, 8, 9]\n",
        "arr4 = [4, 7, 8]\n",
        "\n",
        "def array(arr1, arr2):\n",
        "    p1 = p2 = p3 = 0\n",
        "    n1 = len(arr1)\n",
        "    n2 = len(arr2)\n",
        "    arr3 = [0] * (n1 + n2)\n",
        "\n",
        "    while p1 < n1 and p2 < n2:\n",
        "        if arr1[p1] <= arr2[p2]:\n",
        "            arr3[p3] = arr1[p1]\n",
        "            p1 += 1\n",
        "        else:\n",
        "            arr3[p3] = arr2[p2]\n",
        "            p2 += 1\n",
        "        p3 += 1\n",
        "\n",
        "    while p1 < n1:\n",
        "        arr3[p3] = arr1[p1]\n",
        "        p1 += 1\n",
        "        p3 += 1\n",
        "\n",
        "    while p2 < n2:\n",
        "        arr3[p3] = arr2[p2]\n",
        "        p2 += 1\n",
        "        p3 += 1\n",
        "\n",
        "    return arr3\n",
        "\n",
        "print(\"Output 1: \", array(arr1, arr2))\n",
        "print(\"Output 2: \", array(arr3, arr4))"
      ],
      "metadata": {
        "colab": {
          "base_uri": "https://localhost:8080/"
        },
        "id": "rgDwfH6L5A6d",
        "outputId": "97344a11-042c-455e-916b-1b8d1682f608"
      },
      "execution_count": 11,
      "outputs": [
        {
          "output_type": "stream",
          "name": "stdout",
          "text": [
            "Output 1:  [1, 2, 3, 4, 4, 5, 6, 8]\n",
            "Output 2:  [4, 5, 7, 8, 8, 9]\n"
          ]
        }
      ]
    },
    {
      "cell_type": "markdown",
      "source": [
        "### QUESTION-7"
      ],
      "metadata": {
        "id": "uCC7zOl1A9wz"
      }
    },
    {
      "cell_type": "code",
      "source": [
        "nums1 = [1, 2, 2, 1]\n",
        "nums2 = [2, 2]\n",
        "nums3 = [4,9,5]\n",
        "nums4 = [9,4,9,8,4]\n",
        "\n",
        "def intersection(nums1, nums2):\n",
        "    set1 = set(nums1)\n",
        "    result = set()\n",
        "\n",
        "    for i in nums2:\n",
        "        if i in set1:\n",
        "            result.add(i)\n",
        "\n",
        "    return list(result)\n",
        "\n",
        "print(\"Output 1: \",intersection(nums1, nums2))\n",
        "print(\"Output 2: \",intersection(nums3, nums4))"
      ],
      "metadata": {
        "colab": {
          "base_uri": "https://localhost:8080/"
        },
        "id": "L7ATGqPa-0FW",
        "outputId": "f7d3b275-8d74-445b-ffe1-b6a980a1fab1"
      },
      "execution_count": 13,
      "outputs": [
        {
          "output_type": "stream",
          "name": "stdout",
          "text": [
            "Output 1:  [2]\n",
            "Output 2:  [9, 4]\n"
          ]
        }
      ]
    },
    {
      "cell_type": "markdown",
      "source": [
        "### QUESTION-8"
      ],
      "metadata": {
        "id": "ic8afQzPBTlG"
      }
    },
    {
      "cell_type": "code",
      "source": [
        "nums1 = [1, 2, 2, 1]\n",
        "nums2 = [2, 2]\n",
        "nums3 = [4,9,5]\n",
        "nums4 = [9,4,9,8,4]\n",
        "\n",
        "def intersect(nums1, nums2):\n",
        "    freq = {}\n",
        "    result = []\n",
        "\n",
        "    for i in nums1:\n",
        "        freq[i] = freq.get(i, 0) + 1\n",
        "\n",
        "    for i in nums2:\n",
        "        if i in freq and freq[i] > 0:\n",
        "            result.append(i)\n",
        "            freq[i] -= 1\n",
        "\n",
        "    return result\n",
        "\n",
        "print(\"Output 1: \",intersect(nums1, nums2))\n",
        "print(\"Output 2: \",intersect(nums3, nums4))"
      ],
      "metadata": {
        "colab": {
          "base_uri": "https://localhost:8080/"
        },
        "id": "Q5DkKYSP_Kaa",
        "outputId": "93539def-0a6b-4520-e47e-3a6de750e775"
      },
      "execution_count": 14,
      "outputs": [
        {
          "output_type": "stream",
          "name": "stdout",
          "text": [
            "Output 1:  [2, 2]\n",
            "Output 2:  [9, 4]\n"
          ]
        }
      ]
    },
    {
      "cell_type": "code",
      "source": [],
      "metadata": {
        "id": "svjKASP0AjGO"
      },
      "execution_count": null,
      "outputs": []
    }
  ]
}